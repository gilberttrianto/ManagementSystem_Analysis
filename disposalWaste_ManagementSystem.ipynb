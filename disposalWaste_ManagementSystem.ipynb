{
 "cells": [
  {
   "attachments": {},
   "cell_type": "markdown",
   "metadata": {},
   "source": [
    "# Austin Smart City Waste Disposal and Waste Management System Analysis"
   ]
  },
  {
   "attachments": {},
   "cell_type": "markdown",
   "metadata": {},
   "source": [
    "Gilbert Agus Trianto"
   ]
  },
  {
   "attachments": {},
   "cell_type": "markdown",
   "metadata": {},
   "source": [
    "## Description\n",
    "\n",
    "### Objective\n",
    "Analysis of the Waste Disposal and Management System in Austin Smart City City in 2021 uses the collection of selected data and drawing conclusions based on sample data, as well as planning for the conditioning of the Waste Disposal and Management System in the future.\n",
    "\n",
    "### Problem Statement\n",
    "Based on the conditions for the disposal and management of waste in the city of Austin City, analysis is needed to determine the conditions that occur in each site of waste disposal and plan for the calculation or plan for the disposal and management of waste in the city of Austin City."
   ]
  },
  {
   "attachments": {},
   "cell_type": "markdown",
   "metadata": {},
   "source": [
    "## Working Area"
   ]
  },
  {
   "attachments": {},
   "cell_type": "markdown",
   "metadata": {},
   "source": [
    "The dataset used is taken from Google Cloud 'Bigdataquery' / SQL Bigquery with the topic of Austin_Waste\n",
    "The data taken, processed using the query as follows:\n",
    "\n",
    "SELECT report_date,load_time, load_type, load_weight, dropoff_site FROM `bigquery-public-data.austin_waste.waste_and_diversion` WHERE EXTRACT(YEAR FROM report_date) = 2021"
   ]
  },
  {
   "cell_type": "code",
   "execution_count": 8,
   "metadata": {},
   "outputs": [],
   "source": [
    "# Import Library used\n",
    "import pandas as pd\n",
    "import matplotlib.pyplot as plt\n",
    "import seaborn as sns\n",
    "import numpy as np\n",
    "import scipy.stats as stats\n",
    "from scipy.stats import t"
   ]
  },
  {
   "attachments": {},
   "cell_type": "markdown",
   "metadata": {},
   "source": [
    "Explore data and display the form of data obtained"
   ]
  },
  {
   "cell_type": "code",
   "execution_count": 9,
   "metadata": {},
   "outputs": [],
   "source": [
    "austin_waste = pd.read_csv('austinCity_dataset.csv', parse_dates=['report_date','load_time'])\n",
    "# Convert the data types in the 'report_date' and 'load_time' columns to become data type DATETIME types"
   ]
  },
  {
   "cell_type": "code",
   "execution_count": 10,
   "metadata": {},
   "outputs": [
    {
     "data": {
      "text/html": [
       "<div>\n",
       "<style scoped>\n",
       "    .dataframe tbody tr th:only-of-type {\n",
       "        vertical-align: middle;\n",
       "    }\n",
       "\n",
       "    .dataframe tbody tr th {\n",
       "        vertical-align: top;\n",
       "    }\n",
       "\n",
       "    .dataframe thead th {\n",
       "        text-align: right;\n",
       "    }\n",
       "</style>\n",
       "<table border=\"1\" class=\"dataframe\">\n",
       "  <thead>\n",
       "    <tr style=\"text-align: right;\">\n",
       "      <th></th>\n",
       "      <th>report_date</th>\n",
       "      <th>load_time</th>\n",
       "      <th>load_type</th>\n",
       "      <th>load_weight</th>\n",
       "      <th>dropoff_site</th>\n",
       "    </tr>\n",
       "  </thead>\n",
       "  <tbody>\n",
       "    <tr>\n",
       "      <th>0</th>\n",
       "      <td>2021-01-01</td>\n",
       "      <td>2021-01-01 12:00:00+00:00</td>\n",
       "      <td>SWEEPING</td>\n",
       "      <td>NaN</td>\n",
       "      <td>ONION CREEK</td>\n",
       "    </tr>\n",
       "    <tr>\n",
       "      <th>1</th>\n",
       "      <td>2021-01-01</td>\n",
       "      <td>2021-01-01 12:00:00+00:00</td>\n",
       "      <td>SWEEPING</td>\n",
       "      <td>NaN</td>\n",
       "      <td>ONION CREEK</td>\n",
       "    </tr>\n",
       "    <tr>\n",
       "      <th>2</th>\n",
       "      <td>2021-01-01</td>\n",
       "      <td>2021-01-01 12:00:00+00:00</td>\n",
       "      <td>SWEEPING</td>\n",
       "      <td>NaN</td>\n",
       "      <td>ONION CREEK</td>\n",
       "    </tr>\n",
       "    <tr>\n",
       "      <th>3</th>\n",
       "      <td>2021-01-01</td>\n",
       "      <td>2021-01-01 12:00:00+00:00</td>\n",
       "      <td>SWEEPING</td>\n",
       "      <td>NaN</td>\n",
       "      <td>ONION CREEK</td>\n",
       "    </tr>\n",
       "    <tr>\n",
       "      <th>4</th>\n",
       "      <td>2021-01-02</td>\n",
       "      <td>2021-01-02 09:24:00+00:00</td>\n",
       "      <td>TIRES</td>\n",
       "      <td>1640.0</td>\n",
       "      <td>MRF</td>\n",
       "    </tr>\n",
       "  </tbody>\n",
       "</table>\n",
       "</div>"
      ],
      "text/plain": [
       "  report_date                 load_time load_type  load_weight dropoff_site\n",
       "0  2021-01-01 2021-01-01 12:00:00+00:00  SWEEPING          NaN  ONION CREEK\n",
       "1  2021-01-01 2021-01-01 12:00:00+00:00  SWEEPING          NaN  ONION CREEK\n",
       "2  2021-01-01 2021-01-01 12:00:00+00:00  SWEEPING          NaN  ONION CREEK\n",
       "3  2021-01-01 2021-01-01 12:00:00+00:00  SWEEPING          NaN  ONION CREEK\n",
       "4  2021-01-02 2021-01-02 09:24:00+00:00     TIRES       1640.0          MRF"
      ]
     },
     "execution_count": 10,
     "metadata": {},
     "output_type": "execute_result"
    }
   ],
   "source": [
    "austin_waste.head()"
   ]
  },
  {
   "cell_type": "code",
   "execution_count": 11,
   "metadata": {},
   "outputs": [
    {
     "data": {
      "text/html": [
       "<div>\n",
       "<style scoped>\n",
       "    .dataframe tbody tr th:only-of-type {\n",
       "        vertical-align: middle;\n",
       "    }\n",
       "\n",
       "    .dataframe tbody tr th {\n",
       "        vertical-align: top;\n",
       "    }\n",
       "\n",
       "    .dataframe thead th {\n",
       "        text-align: right;\n",
       "    }\n",
       "</style>\n",
       "<table border=\"1\" class=\"dataframe\">\n",
       "  <thead>\n",
       "    <tr style=\"text-align: right;\">\n",
       "      <th></th>\n",
       "      <th>report_date</th>\n",
       "      <th>load_time</th>\n",
       "      <th>load_type</th>\n",
       "      <th>load_weight</th>\n",
       "      <th>dropoff_site</th>\n",
       "    </tr>\n",
       "  </thead>\n",
       "  <tbody>\n",
       "    <tr>\n",
       "      <th>26152</th>\n",
       "      <td>2021-07-09</td>\n",
       "      <td>2021-07-09 09:48:00+00:00</td>\n",
       "      <td>BRUSH</td>\n",
       "      <td>8240.0</td>\n",
       "      <td>HORNSBY BEND</td>\n",
       "    </tr>\n",
       "    <tr>\n",
       "      <th>26153</th>\n",
       "      <td>2021-07-09</td>\n",
       "      <td>2021-07-09 12:02:00+00:00</td>\n",
       "      <td>BRUSH</td>\n",
       "      <td>4160.0</td>\n",
       "      <td>HORNSBY BEND</td>\n",
       "    </tr>\n",
       "    <tr>\n",
       "      <th>26154</th>\n",
       "      <td>2021-07-09</td>\n",
       "      <td>2021-07-09 11:55:00+00:00</td>\n",
       "      <td>BRUSH</td>\n",
       "      <td>4340.0</td>\n",
       "      <td>HORNSBY BEND</td>\n",
       "    </tr>\n",
       "    <tr>\n",
       "      <th>26155</th>\n",
       "      <td>2021-07-09</td>\n",
       "      <td>2021-07-09 12:00:00+00:00</td>\n",
       "      <td>LITTER</td>\n",
       "      <td>1900.0</td>\n",
       "      <td>TDS LANDFILL</td>\n",
       "    </tr>\n",
       "    <tr>\n",
       "      <th>26156</th>\n",
       "      <td>2021-07-09</td>\n",
       "      <td>2021-07-09 12:00:00+00:00</td>\n",
       "      <td>LITTER</td>\n",
       "      <td>3040.0</td>\n",
       "      <td>TDS LANDFILL</td>\n",
       "    </tr>\n",
       "  </tbody>\n",
       "</table>\n",
       "</div>"
      ],
      "text/plain": [
       "      report_date                 load_time load_type  load_weight  \\\n",
       "26152  2021-07-09 2021-07-09 09:48:00+00:00     BRUSH       8240.0   \n",
       "26153  2021-07-09 2021-07-09 12:02:00+00:00     BRUSH       4160.0   \n",
       "26154  2021-07-09 2021-07-09 11:55:00+00:00     BRUSH       4340.0   \n",
       "26155  2021-07-09 2021-07-09 12:00:00+00:00    LITTER       1900.0   \n",
       "26156  2021-07-09 2021-07-09 12:00:00+00:00    LITTER       3040.0   \n",
       "\n",
       "       dropoff_site  \n",
       "26152  HORNSBY BEND  \n",
       "26153  HORNSBY BEND  \n",
       "26154  HORNSBY BEND  \n",
       "26155  TDS LANDFILL  \n",
       "26156  TDS LANDFILL  "
      ]
     },
     "execution_count": 11,
     "metadata": {},
     "output_type": "execute_result"
    }
   ],
   "source": [
    "austin_waste.tail()"
   ]
  },
  {
   "cell_type": "code",
   "execution_count": 12,
   "metadata": {},
   "outputs": [
    {
     "name": "stdout",
     "output_type": "stream",
     "text": [
      "<class 'pandas.core.frame.DataFrame'>\n",
      "RangeIndex: 26157 entries, 0 to 26156\n",
      "Data columns (total 5 columns):\n",
      " #   Column        Non-Null Count  Dtype              \n",
      "---  ------        --------------  -----              \n",
      " 0   report_date   26157 non-null  datetime64[ns]     \n",
      " 1   load_time     26157 non-null  datetime64[ns, UTC]\n",
      " 2   load_type     26157 non-null  object             \n",
      " 3   load_weight   25109 non-null  float64            \n",
      " 4   dropoff_site  26157 non-null  object             \n",
      "dtypes: datetime64[ns, UTC](1), datetime64[ns](1), float64(1), object(2)\n",
      "memory usage: 1021.9+ KB\n"
     ]
    }
   ],
   "source": [
    "austin_waste.info()"
   ]
  },
  {
   "attachments": {},
   "cell_type": "markdown",
   "metadata": {},
   "source": [
    "## Statistic Problem"
   ]
  },
  {
   "attachments": {},
   "cell_type": "markdown",
   "metadata": {},
   "source": [
    "1. Before doing statistical calculations and analysis, clean the data first.Make sure there is no missing value, etc."
   ]
  },
  {
   "attachments": {},
   "cell_type": "markdown",
   "metadata": {},
   "source": [
    "Check data on duplicate data"
   ]
  },
  {
   "cell_type": "code",
   "execution_count": 13,
   "metadata": {},
   "outputs": [
    {
     "data": {
      "text/plain": [
       "445"
      ]
     },
     "execution_count": 13,
     "metadata": {},
     "output_type": "execute_result"
    }
   ],
   "source": [
    "# Check duplicate data\n",
    "austin_waste.duplicated().sum()"
   ]
  },
  {
   "attachments": {},
   "cell_type": "markdown",
   "metadata": {},
   "source": [
    "See the condition of duplicate data to find out what actions should be taken"
   ]
  },
  {
   "cell_type": "code",
   "execution_count": 14,
   "metadata": {},
   "outputs": [
    {
     "data": {
      "text/html": [
       "<div>\n",
       "<style scoped>\n",
       "    .dataframe tbody tr th:only-of-type {\n",
       "        vertical-align: middle;\n",
       "    }\n",
       "\n",
       "    .dataframe tbody tr th {\n",
       "        vertical-align: top;\n",
       "    }\n",
       "\n",
       "    .dataframe thead th {\n",
       "        text-align: right;\n",
       "    }\n",
       "</style>\n",
       "<table border=\"1\" class=\"dataframe\">\n",
       "  <thead>\n",
       "    <tr style=\"text-align: right;\">\n",
       "      <th></th>\n",
       "      <th>report_date</th>\n",
       "      <th>load_time</th>\n",
       "      <th>load_type</th>\n",
       "      <th>load_weight</th>\n",
       "      <th>dropoff_site</th>\n",
       "    </tr>\n",
       "  </thead>\n",
       "  <tbody>\n",
       "    <tr>\n",
       "      <th>1</th>\n",
       "      <td>2021-01-01</td>\n",
       "      <td>2021-01-01 12:00:00+00:00</td>\n",
       "      <td>SWEEPING</td>\n",
       "      <td>NaN</td>\n",
       "      <td>ONION CREEK</td>\n",
       "    </tr>\n",
       "    <tr>\n",
       "      <th>2</th>\n",
       "      <td>2021-01-01</td>\n",
       "      <td>2021-01-01 12:00:00+00:00</td>\n",
       "      <td>SWEEPING</td>\n",
       "      <td>NaN</td>\n",
       "      <td>ONION CREEK</td>\n",
       "    </tr>\n",
       "    <tr>\n",
       "      <th>3</th>\n",
       "      <td>2021-01-01</td>\n",
       "      <td>2021-01-01 12:00:00+00:00</td>\n",
       "      <td>SWEEPING</td>\n",
       "      <td>NaN</td>\n",
       "      <td>ONION CREEK</td>\n",
       "    </tr>\n",
       "    <tr>\n",
       "      <th>9</th>\n",
       "      <td>2021-01-02</td>\n",
       "      <td>2021-01-02 12:00:00+00:00</td>\n",
       "      <td>SWEEPING</td>\n",
       "      <td>NaN</td>\n",
       "      <td>ONION CREEK</td>\n",
       "    </tr>\n",
       "    <tr>\n",
       "      <th>10</th>\n",
       "      <td>2021-01-02</td>\n",
       "      <td>2021-01-02 12:00:00+00:00</td>\n",
       "      <td>SWEEPING</td>\n",
       "      <td>NaN</td>\n",
       "      <td>ONION CREEK</td>\n",
       "    </tr>\n",
       "    <tr>\n",
       "      <th>...</th>\n",
       "      <td>...</td>\n",
       "      <td>...</td>\n",
       "      <td>...</td>\n",
       "      <td>...</td>\n",
       "      <td>...</td>\n",
       "    </tr>\n",
       "    <tr>\n",
       "      <th>26132</th>\n",
       "      <td>2021-07-09</td>\n",
       "      <td>2021-07-09 12:00:00+00:00</td>\n",
       "      <td>SWEEPING</td>\n",
       "      <td>NaN</td>\n",
       "      <td>ONION CREEK</td>\n",
       "    </tr>\n",
       "    <tr>\n",
       "      <th>26133</th>\n",
       "      <td>2021-07-09</td>\n",
       "      <td>2021-07-09 12:00:00+00:00</td>\n",
       "      <td>SWEEPING</td>\n",
       "      <td>NaN</td>\n",
       "      <td>ONION CREEK</td>\n",
       "    </tr>\n",
       "    <tr>\n",
       "      <th>26134</th>\n",
       "      <td>2021-07-09</td>\n",
       "      <td>2021-07-09 12:00:00+00:00</td>\n",
       "      <td>SWEEPING</td>\n",
       "      <td>NaN</td>\n",
       "      <td>ONION CREEK</td>\n",
       "    </tr>\n",
       "    <tr>\n",
       "      <th>26135</th>\n",
       "      <td>2021-07-09</td>\n",
       "      <td>2021-07-09 12:00:00+00:00</td>\n",
       "      <td>SWEEPING</td>\n",
       "      <td>NaN</td>\n",
       "      <td>ONION CREEK</td>\n",
       "    </tr>\n",
       "    <tr>\n",
       "      <th>26139</th>\n",
       "      <td>2021-07-09</td>\n",
       "      <td>2021-07-09 05:40:00+00:00</td>\n",
       "      <td>BRUSH</td>\n",
       "      <td>5500.0</td>\n",
       "      <td>HORNSBY BEND</td>\n",
       "    </tr>\n",
       "  </tbody>\n",
       "</table>\n",
       "<p>445 rows × 5 columns</p>\n",
       "</div>"
      ],
      "text/plain": [
       "      report_date                 load_time load_type  load_weight  \\\n",
       "1      2021-01-01 2021-01-01 12:00:00+00:00  SWEEPING          NaN   \n",
       "2      2021-01-01 2021-01-01 12:00:00+00:00  SWEEPING          NaN   \n",
       "3      2021-01-01 2021-01-01 12:00:00+00:00  SWEEPING          NaN   \n",
       "9      2021-01-02 2021-01-02 12:00:00+00:00  SWEEPING          NaN   \n",
       "10     2021-01-02 2021-01-02 12:00:00+00:00  SWEEPING          NaN   \n",
       "...           ...                       ...       ...          ...   \n",
       "26132  2021-07-09 2021-07-09 12:00:00+00:00  SWEEPING          NaN   \n",
       "26133  2021-07-09 2021-07-09 12:00:00+00:00  SWEEPING          NaN   \n",
       "26134  2021-07-09 2021-07-09 12:00:00+00:00  SWEEPING          NaN   \n",
       "26135  2021-07-09 2021-07-09 12:00:00+00:00  SWEEPING          NaN   \n",
       "26139  2021-07-09 2021-07-09 05:40:00+00:00     BRUSH       5500.0   \n",
       "\n",
       "       dropoff_site  \n",
       "1       ONION CREEK  \n",
       "2       ONION CREEK  \n",
       "3       ONION CREEK  \n",
       "9       ONION CREEK  \n",
       "10      ONION CREEK  \n",
       "...             ...  \n",
       "26132   ONION CREEK  \n",
       "26133   ONION CREEK  \n",
       "26134   ONION CREEK  \n",
       "26135   ONION CREEK  \n",
       "26139  HORNSBY BEND  \n",
       "\n",
       "[445 rows x 5 columns]"
      ]
     },
     "execution_count": 14,
     "metadata": {},
     "output_type": "execute_result"
    }
   ],
   "source": [
    "austin_waste[austin_waste.duplicated()]"
   ]
  },
  {
   "attachments": {},
   "cell_type": "markdown",
   "metadata": {},
   "source": [
    "Because duplicate data conditions are felt to be the same as a whole, a merger of duplicate data is carried out into one"
   ]
  },
  {
   "cell_type": "code",
   "execution_count": 15,
   "metadata": {},
   "outputs": [],
   "source": [
    "austin_waste.drop_duplicates(inplace=True)"
   ]
  },
  {
   "cell_type": "code",
   "execution_count": 16,
   "metadata": {},
   "outputs": [
    {
     "data": {
      "text/plain": [
       "0"
      ]
     },
     "execution_count": 16,
     "metadata": {},
     "output_type": "execute_result"
    }
   ],
   "source": [
    "# Check duplicate data\n",
    "austin_waste.duplicated().sum()"
   ]
  },
  {
   "cell_type": "code",
   "execution_count": 17,
   "metadata": {},
   "outputs": [
    {
     "data": {
      "text/html": [
       "<div>\n",
       "<style scoped>\n",
       "    .dataframe tbody tr th:only-of-type {\n",
       "        vertical-align: middle;\n",
       "    }\n",
       "\n",
       "    .dataframe tbody tr th {\n",
       "        vertical-align: top;\n",
       "    }\n",
       "\n",
       "    .dataframe thead th {\n",
       "        text-align: right;\n",
       "    }\n",
       "</style>\n",
       "<table border=\"1\" class=\"dataframe\">\n",
       "  <thead>\n",
       "    <tr style=\"text-align: right;\">\n",
       "      <th></th>\n",
       "      <th>report_date</th>\n",
       "      <th>load_time</th>\n",
       "      <th>load_type</th>\n",
       "      <th>load_weight</th>\n",
       "      <th>dropoff_site</th>\n",
       "    </tr>\n",
       "  </thead>\n",
       "  <tbody>\n",
       "    <tr>\n",
       "      <th>18615</th>\n",
       "      <td>2021-05-13</td>\n",
       "      <td>2021-05-13 01:30:00+00:00</td>\n",
       "      <td>SWEEPING</td>\n",
       "      <td>NaN</td>\n",
       "      <td>ONION CREEK</td>\n",
       "    </tr>\n",
       "    <tr>\n",
       "      <th>18267</th>\n",
       "      <td>2021-05-11</td>\n",
       "      <td>2021-05-11 10:40:00+00:00</td>\n",
       "      <td>SWEEPING</td>\n",
       "      <td>NaN</td>\n",
       "      <td>PARK CENTER</td>\n",
       "    </tr>\n",
       "    <tr>\n",
       "      <th>24832</th>\n",
       "      <td>2021-06-28</td>\n",
       "      <td>2021-06-28 10:10:00+00:00</td>\n",
       "      <td>SWEEPING</td>\n",
       "      <td>NaN</td>\n",
       "      <td>ON ROUTE HIGH DUMP</td>\n",
       "    </tr>\n",
       "    <tr>\n",
       "      <th>20706</th>\n",
       "      <td>2021-05-28</td>\n",
       "      <td>2021-05-28 01:00:00+00:00</td>\n",
       "      <td>SWEEPING</td>\n",
       "      <td>NaN</td>\n",
       "      <td>ONION CREEK</td>\n",
       "    </tr>\n",
       "    <tr>\n",
       "      <th>24279</th>\n",
       "      <td>2021-06-24</td>\n",
       "      <td>2021-06-24 12:10:00+00:00</td>\n",
       "      <td>SWEEPING</td>\n",
       "      <td>NaN</td>\n",
       "      <td>ONION CREEK</td>\n",
       "    </tr>\n",
       "  </tbody>\n",
       "</table>\n",
       "</div>"
      ],
      "text/plain": [
       "      report_date                 load_time load_type  load_weight  \\\n",
       "18615  2021-05-13 2021-05-13 01:30:00+00:00  SWEEPING          NaN   \n",
       "18267  2021-05-11 2021-05-11 10:40:00+00:00  SWEEPING          NaN   \n",
       "24832  2021-06-28 2021-06-28 10:10:00+00:00  SWEEPING          NaN   \n",
       "20706  2021-05-28 2021-05-28 01:00:00+00:00  SWEEPING          NaN   \n",
       "24279  2021-06-24 2021-06-24 12:10:00+00:00  SWEEPING          NaN   \n",
       "\n",
       "             dropoff_site  \n",
       "18615         ONION CREEK  \n",
       "18267         PARK CENTER  \n",
       "24832  ON ROUTE HIGH DUMP  \n",
       "20706         ONION CREEK  \n",
       "24279         ONION CREEK  "
      ]
     },
     "execution_count": 17,
     "metadata": {},
     "output_type": "execute_result"
    }
   ],
   "source": [
    "# Showing null value in dataset\n",
    "austin_waste[austin_waste.isnull().any(axis=1)].sample(5)"
   ]
  },
  {
   "attachments": {},
   "cell_type": "markdown",
   "metadata": {},
   "source": [
    "Check data on missing value data"
   ]
  },
  {
   "cell_type": "code",
   "execution_count": 18,
   "metadata": {},
   "outputs": [
    {
     "data": {
      "text/plain": [
       "report_date       0\n",
       "load_time         0\n",
       "load_type         0\n",
       "load_weight     629\n",
       "dropoff_site      0\n",
       "dtype: int64"
      ]
     },
     "execution_count": 18,
     "metadata": {},
     "output_type": "execute_result"
    }
   ],
   "source": [
    "# Cek null data\n",
    "austin_waste.isnull().sum()"
   ]
  },
  {
   "attachments": {},
   "cell_type": "markdown",
   "metadata": {},
   "source": [
    "After obtaining a missing value data, a middle/median search from the load_weight column to deal with missing value.\n",
    "The median value is used so that the dataset remains balanced as a whole."
   ]
  },
  {
   "cell_type": "code",
   "execution_count": 19,
   "metadata": {},
   "outputs": [],
   "source": [
    "austin_waste['load_weight'] = austin_waste['load_weight'].fillna(austin_waste['load_weight'].median())"
   ]
  },
  {
   "cell_type": "code",
   "execution_count": 20,
   "metadata": {},
   "outputs": [
    {
     "data": {
      "text/plain": [
       "report_date     0\n",
       "load_time       0\n",
       "load_type       0\n",
       "load_weight     0\n",
       "dropoff_site    0\n",
       "dtype: int64"
      ]
     },
     "execution_count": 20,
     "metadata": {},
     "output_type": "execute_result"
    }
   ],
   "source": [
    "#Cek null data\n",
    "austin_waste.isnull().sum()"
   ]
  },
  {
   "attachments": {},
   "cell_type": "markdown",
   "metadata": {},
   "source": [
    "2. Next, explore simple data to find out and recognize the data you have. We can do the following things to explore your data:"
   ]
  },
  {
   "attachments": {},
   "cell_type": "markdown",
   "metadata": {},
   "source": [
    "### Conduct data exploration"
   ]
  },
  {
   "attachments": {},
   "cell_type": "markdown",
   "metadata": {},
   "source": [
    "See the time span of the dataset used"
   ]
  },
  {
   "cell_type": "code",
   "execution_count": 21,
   "metadata": {},
   "outputs": [
    {
     "name": "stdout",
     "output_type": "stream",
     "text": [
      "189 days 00:00:00\n"
     ]
    }
   ],
   "source": [
    "rentang_waktu = austin_waste['report_date'].max() - austin_waste['report_date'].min()\n",
    "print(rentang_waktu)"
   ]
  },
  {
   "attachments": {},
   "cell_type": "markdown",
   "metadata": {},
   "source": [
    "The time available at the dataset for 189 days."
   ]
  },
  {
   "attachments": {},
   "cell_type": "markdown",
   "metadata": {},
   "source": [
    "See how many types of trash loads and see the amount in each type of site"
   ]
  },
  {
   "cell_type": "code",
   "execution_count": 22,
   "metadata": {},
   "outputs": [
    {
     "data": {
      "text/plain": [
       "GARBAGE COLLECTIONS          8236\n",
       "RECYCLING - SINGLE STREAM    6754\n",
       "ORGANICS                     5754\n",
       "BULK                         1594\n",
       "BRUSH                        1513\n",
       "SWEEPING                      971\n",
       "MIXED LITTER                  328\n",
       "TIRES                         175\n",
       "DEAD ANIMAL                   150\n",
       "YARD TRIMMING                 137\n",
       "RECYCLED METAL                 57\n",
       "LITTER                         41\n",
       "CONTAMINATED RECYCLING          1\n",
       "CONTAMINATED ORGANICS           1\n",
       "Name: load_type, dtype: int64"
      ]
     },
     "execution_count": 22,
     "metadata": {},
     "output_type": "execute_result"
    }
   ],
   "source": [
    "austin_waste['load_type'].value_counts()"
   ]
  },
  {
   "attachments": {},
   "cell_type": "markdown",
   "metadata": {},
   "source": [
    "See how many landfills and see the amount in each place"
   ]
  },
  {
   "cell_type": "code",
   "execution_count": 23,
   "metadata": {},
   "outputs": [
    {
     "data": {
      "text/plain": [
       "TDS LANDFILL             10687\n",
       "ORGANICS BY GOSH          5746\n",
       "BALCONES RECYCLING        3832\n",
       "TDS - MRF                 2947\n",
       "HORNSBY BEND              1651\n",
       "ONION CREEK                396\n",
       "MRF                        168\n",
       "ON ROUTE HIGH DUMP          81\n",
       "PARK CENTER                 74\n",
       "GREAT NORTHERN              69\n",
       "AUSTIN IRON AND METAL       50\n",
       "PARK BEND                    4\n",
       "AUSTIN WOOD RECYCLING        2\n",
       "WILCAB                       1\n",
       "BALCONES WOODS               1\n",
       "STEINER LANDFILL             1\n",
       "WESTFIELD                    1\n",
       "ST. EDWARDS                  1\n",
       "Name: dropoff_site, dtype: int64"
      ]
     },
     "execution_count": 23,
     "metadata": {},
     "output_type": "execute_result"
    }
   ],
   "source": [
    "austin_waste['dropoff_site'].value_counts()"
   ]
  },
  {
   "attachments": {},
   "cell_type": "markdown",
   "metadata": {},
   "source": [
    "Displays visualization of the 5 largest sites"
   ]
  },
  {
   "cell_type": "code",
   "execution_count": 24,
   "metadata": {},
   "outputs": [
    {
     "data": {
      "text/plain": [
       "<Axes: ylabel='dropoff_site'>"
      ]
     },
     "execution_count": 24,
     "metadata": {},
     "output_type": "execute_result"
    },
    {
     "data": {
      "image/png": "[encoded data removed]",
      "text/plain": [
       "<Figure size 640x480 with 1 Axes>"
      ]
     },
     "metadata": {},
     "output_type": "display_data"
    }
   ],
   "source": [
    "austin_waste['dropoff_site'].value_counts().head().plot(kind='pie', autopct='%.2f%%')"
   ]
  },
  {
   "attachments": {},
   "cell_type": "markdown",
   "metadata": {},
   "source": [
    "Based on the visualization of TDS Landfill is the largest site based on the 5 largest sites in the city of Austin City by dominating 42.98% of waste more than 4 other largest sites."
   ]
  },
  {
   "attachments": {},
   "cell_type": "markdown",
   "metadata": {},
   "source": [
    "3. Based on Central Tendency (mean, median, and mode) for each site, insight/what information can you convey to the city government?"
   ]
  },
  {
   "cell_type": "code",
   "execution_count": 25,
   "metadata": {},
   "outputs": [
    {
     "data": {
      "text/html": [
       "<div>\n",
       "<style scoped>\n",
       "    .dataframe tbody tr th:only-of-type {\n",
       "        vertical-align: middle;\n",
       "    }\n",
       "\n",
       "    .dataframe tbody tr th {\n",
       "        vertical-align: top;\n",
       "    }\n",
       "\n",
       "    .dataframe thead th {\n",
       "        text-align: right;\n",
       "    }\n",
       "</style>\n",
       "<table border=\"1\" class=\"dataframe\">\n",
       "  <thead>\n",
       "    <tr style=\"text-align: right;\">\n",
       "      <th></th>\n",
       "      <th>load_weight</th>\n",
       "    </tr>\n",
       "    <tr>\n",
       "      <th>dropoff_site</th>\n",
       "      <th></th>\n",
       "    </tr>\n",
       "  </thead>\n",
       "  <tbody>\n",
       "    <tr>\n",
       "      <th>WESTFIELD</th>\n",
       "      <td>16020.00</td>\n",
       "    </tr>\n",
       "    <tr>\n",
       "      <th>TDS LANDFILL</th>\n",
       "      <td>15167.43</td>\n",
       "    </tr>\n",
       "    <tr>\n",
       "      <th>PARK BEND</th>\n",
       "      <td>13385.00</td>\n",
       "    </tr>\n",
       "    <tr>\n",
       "      <th>GREAT NORTHERN</th>\n",
       "      <td>11982.90</td>\n",
       "    </tr>\n",
       "    <tr>\n",
       "      <th>ORGANICS BY GOSH</th>\n",
       "      <td>11822.86</td>\n",
       "    </tr>\n",
       "    <tr>\n",
       "      <th>ON ROUTE HIGH DUMP</th>\n",
       "      <td>11405.93</td>\n",
       "    </tr>\n",
       "    <tr>\n",
       "      <th>ST. EDWARDS</th>\n",
       "      <td>11300.00</td>\n",
       "    </tr>\n",
       "    <tr>\n",
       "      <th>PARK CENTER</th>\n",
       "      <td>11300.00</td>\n",
       "    </tr>\n",
       "    <tr>\n",
       "      <th>WILCAB</th>\n",
       "      <td>11300.00</td>\n",
       "    </tr>\n",
       "    <tr>\n",
       "      <th>ONION CREEK</th>\n",
       "      <td>11300.00</td>\n",
       "    </tr>\n",
       "    <tr>\n",
       "      <th>TDS - MRF</th>\n",
       "      <td>9872.44</td>\n",
       "    </tr>\n",
       "    <tr>\n",
       "      <th>BALCONES RECYCLING</th>\n",
       "      <td>9464.93</td>\n",
       "    </tr>\n",
       "    <tr>\n",
       "      <th>BALCONES WOODS</th>\n",
       "      <td>8460.00</td>\n",
       "    </tr>\n",
       "    <tr>\n",
       "      <th>HORNSBY BEND</th>\n",
       "      <td>6645.11</td>\n",
       "    </tr>\n",
       "    <tr>\n",
       "      <th>AUSTIN WOOD RECYCLING</th>\n",
       "      <td>4050.00</td>\n",
       "    </tr>\n",
       "    <tr>\n",
       "      <th>MRF</th>\n",
       "      <td>1799.98</td>\n",
       "    </tr>\n",
       "    <tr>\n",
       "      <th>STEINER LANDFILL</th>\n",
       "      <td>780.00</td>\n",
       "    </tr>\n",
       "    <tr>\n",
       "      <th>AUSTIN IRON AND METAL</th>\n",
       "      <td>451.20</td>\n",
       "    </tr>\n",
       "  </tbody>\n",
       "</table>\n",
       "</div>"
      ],
      "text/plain": [
       "                       load_weight\n",
       "dropoff_site                      \n",
       "WESTFIELD                 16020.00\n",
       "TDS LANDFILL              15167.43\n",
       "PARK BEND                 13385.00\n",
       "GREAT NORTHERN            11982.90\n",
       "ORGANICS BY GOSH          11822.86\n",
       "ON ROUTE HIGH DUMP        11405.93\n",
       "ST. EDWARDS               11300.00\n",
       "PARK CENTER               11300.00\n",
       "WILCAB                    11300.00\n",
       "ONION CREEK               11300.00\n",
       "TDS - MRF                  9872.44\n",
       "BALCONES RECYCLING         9464.93\n",
       "BALCONES WOODS             8460.00\n",
       "HORNSBY BEND               6645.11\n",
       "AUSTIN WOOD RECYCLING      4050.00\n",
       "MRF                        1799.98\n",
       "STEINER LANDFILL            780.00\n",
       "AUSTIN IRON AND METAL       451.20"
      ]
     },
     "execution_count": 25,
     "metadata": {},
     "output_type": "execute_result"
    }
   ],
   "source": [
    "# Looking for average value based on drop off site\n",
    "austinMean = austin_waste.groupby('dropoff_site').mean(numeric_only = True).round(2)\n",
    "austinMean.sort_values('load_weight', ascending=False)"
   ]
  },
  {
   "cell_type": "code",
   "execution_count": 26,
   "metadata": {},
   "outputs": [
    {
     "data": {
      "text/html": [
       "<div>\n",
       "<style scoped>\n",
       "    .dataframe tbody tr th:only-of-type {\n",
       "        vertical-align: middle;\n",
       "    }\n",
       "\n",
       "    .dataframe tbody tr th {\n",
       "        vertical-align: top;\n",
       "    }\n",
       "\n",
       "    .dataframe thead th {\n",
       "        text-align: right;\n",
       "    }\n",
       "</style>\n",
       "<table border=\"1\" class=\"dataframe\">\n",
       "  <thead>\n",
       "    <tr style=\"text-align: right;\">\n",
       "      <th></th>\n",
       "      <th>load_weight</th>\n",
       "    </tr>\n",
       "    <tr>\n",
       "      <th>dropoff_site</th>\n",
       "      <th></th>\n",
       "    </tr>\n",
       "  </thead>\n",
       "  <tbody>\n",
       "    <tr>\n",
       "      <th>WESTFIELD</th>\n",
       "      <td>16020.0</td>\n",
       "    </tr>\n",
       "    <tr>\n",
       "      <th>TDS LANDFILL</th>\n",
       "      <td>14920.0</td>\n",
       "    </tr>\n",
       "    <tr>\n",
       "      <th>PARK BEND</th>\n",
       "      <td>12330.0</td>\n",
       "    </tr>\n",
       "    <tr>\n",
       "      <th>ORGANICS BY GOSH</th>\n",
       "      <td>11910.0</td>\n",
       "    </tr>\n",
       "    <tr>\n",
       "      <th>ONION CREEK</th>\n",
       "      <td>11300.0</td>\n",
       "    </tr>\n",
       "    <tr>\n",
       "      <th>ST. EDWARDS</th>\n",
       "      <td>11300.0</td>\n",
       "    </tr>\n",
       "    <tr>\n",
       "      <th>PARK CENTER</th>\n",
       "      <td>11300.0</td>\n",
       "    </tr>\n",
       "    <tr>\n",
       "      <th>WILCAB</th>\n",
       "      <td>11300.0</td>\n",
       "    </tr>\n",
       "    <tr>\n",
       "      <th>ON ROUTE HIGH DUMP</th>\n",
       "      <td>11300.0</td>\n",
       "    </tr>\n",
       "    <tr>\n",
       "      <th>GREAT NORTHERN</th>\n",
       "      <td>11300.0</td>\n",
       "    </tr>\n",
       "    <tr>\n",
       "      <th>TDS - MRF</th>\n",
       "      <td>10340.0</td>\n",
       "    </tr>\n",
       "    <tr>\n",
       "      <th>BALCONES RECYCLING</th>\n",
       "      <td>9840.0</td>\n",
       "    </tr>\n",
       "    <tr>\n",
       "      <th>BALCONES WOODS</th>\n",
       "      <td>8460.0</td>\n",
       "    </tr>\n",
       "    <tr>\n",
       "      <th>HORNSBY BEND</th>\n",
       "      <td>6420.0</td>\n",
       "    </tr>\n",
       "    <tr>\n",
       "      <th>AUSTIN WOOD RECYCLING</th>\n",
       "      <td>4050.0</td>\n",
       "    </tr>\n",
       "    <tr>\n",
       "      <th>MRF</th>\n",
       "      <td>1360.0</td>\n",
       "    </tr>\n",
       "    <tr>\n",
       "      <th>STEINER LANDFILL</th>\n",
       "      <td>780.0</td>\n",
       "    </tr>\n",
       "    <tr>\n",
       "      <th>AUSTIN IRON AND METAL</th>\n",
       "      <td>400.0</td>\n",
       "    </tr>\n",
       "  </tbody>\n",
       "</table>\n",
       "</div>"
      ],
      "text/plain": [
       "                       load_weight\n",
       "dropoff_site                      \n",
       "WESTFIELD                  16020.0\n",
       "TDS LANDFILL               14920.0\n",
       "PARK BEND                  12330.0\n",
       "ORGANICS BY GOSH           11910.0\n",
       "ONION CREEK                11300.0\n",
       "ST. EDWARDS                11300.0\n",
       "PARK CENTER                11300.0\n",
       "WILCAB                     11300.0\n",
       "ON ROUTE HIGH DUMP         11300.0\n",
       "GREAT NORTHERN             11300.0\n",
       "TDS - MRF                  10340.0\n",
       "BALCONES RECYCLING          9840.0\n",
       "BALCONES WOODS              8460.0\n",
       "HORNSBY BEND                6420.0\n",
       "AUSTIN WOOD RECYCLING       4050.0\n",
       "MRF                         1360.0\n",
       "STEINER LANDFILL             780.0\n",
       "AUSTIN IRON AND METAL        400.0"
      ]
     },
     "execution_count": 26,
     "metadata": {},
     "output_type": "execute_result"
    }
   ],
   "source": [
    "# Looking for middle value based on drop off site\n",
    "austinMedian = austin_waste.groupby('dropoff_site').median(numeric_only = True)\n",
    "austinMedian.sort_values('load_weight',ascending=False)"
   ]
  },
  {
   "cell_type": "code",
   "execution_count": 27,
   "metadata": {},
   "outputs": [
    {
     "data": {
      "text/plain": [
       "dropoff_site\n",
       "PARK BEND                20400.0\n",
       "WESTFIELD                16020.0\n",
       "BALCONES RECYCLING       11880.0\n",
       "ORGANICS BY GOSH         11300.0\n",
       "ONION CREEK              11300.0\n",
       "ST. EDWARDS              11300.0\n",
       "PARK CENTER              11300.0\n",
       "WILCAB                   11300.0\n",
       "ON ROUTE HIGH DUMP       11300.0\n",
       "GREAT NORTHERN           11300.0\n",
       "TDS - MRF                10360.0\n",
       "BALCONES WOODS            8460.0\n",
       "HORNSBY BEND              5500.0\n",
       "AUSTIN WOOD RECYCLING     2340.0\n",
       "MRF                        960.0\n",
       "STEINER LANDFILL           780.0\n",
       "AUSTIN IRON AND METAL      260.0\n",
       "TDS LANDFILL                60.0\n",
       "Name: load_weight, dtype: float64"
      ]
     },
     "execution_count": 27,
     "metadata": {},
     "output_type": "execute_result"
    }
   ],
   "source": [
    "# Looking for the value that most often appears based on drop off site\n",
    "austin_waste_mode = austin_waste.groupby('dropoff_site').agg(lambda x: x.value_counts().index[0])\n",
    "austin_waste_mode['load_weight'].sort_values(ascending=False)"
   ]
  },
  {
   "cell_type": "code",
   "execution_count": 28,
   "metadata": {},
   "outputs": [
    {
     "data": {
      "text/plain": [
       "16020.0    1\n",
       "Name: load_weight, dtype: int64"
      ]
     },
     "execution_count": 28,
     "metadata": {},
     "output_type": "execute_result"
    }
   ],
   "source": [
    "# Looking for the number of appearances for the site and the weight of waste on Westfield\n",
    "TDS = austin_waste[austin_waste[\"dropoff_site\"] == 'WESTFIELD']\n",
    "TDS['load_weight'].value_counts()"
   ]
  },
  {
   "cell_type": "code",
   "execution_count": 29,
   "metadata": {},
   "outputs": [
    {
     "data": {
      "text/plain": [
       "60.0       21\n",
       "20.0       21\n",
       "12020.0    21\n",
       "21780.0    18\n",
       "11340.0    17\n",
       "           ..\n",
       "30760.0     1\n",
       "34080.0     1\n",
       "31300.0     1\n",
       "33560.0     1\n",
       "11550.0     1\n",
       "Name: load_weight, Length: 1606, dtype: int64"
      ]
     },
     "execution_count": 29,
     "metadata": {},
     "output_type": "execute_result"
    }
   ],
   "source": [
    "# Find the total appearance of the site and weight of waste on TDS Landfill\n",
    "TDS = austin_waste[austin_waste[\"dropoff_site\"] == 'TDS LANDFILL']\n",
    "TDS['load_weight'].value_counts()"
   ]
  },
  {
   "attachments": {},
   "cell_type": "markdown",
   "metadata": {},
   "source": [
    "Based on the average value (mean), the middle value (median), and the most frequent value (mode) found that:\n",
    "- Westfield is the biggest site of the average disposal and reservoir of waste during 2021 with an average value of 16020 kg/year, and the value of the weighted waste weighs 16020 kg.But after being checked, it turns out that garbage disposal in Westfield has only been done once.\n",
    "- Based on the intensity of the disposal and reservoir of 'TDS Landfill' garbage becomes the most activity.\n",
    "Waste that is discarded/accommodated in TDS Landfill on average per day of 15167.43 kg during 2021. (based on mean)\n",
    "Garbage weight per day in TDS Landfill is usually discarded with a weight range of 14920 kg. (Based on median)\n",
    "And for the weight of the waste that is most often dumped in TDS Landfill weighing 60kg with the appearance of 21 times in 2021. (based on Mode)"
   ]
  },
  {
   "attachments": {},
   "cell_type": "markdown",
   "metadata": {},
   "source": [
    "4. Choose the site that attracts the most attention of you, and give the reasons."
   ]
  },
  {
   "cell_type": "code",
   "execution_count": 30,
   "metadata": {},
   "outputs": [
    {
     "data": {
      "text/plain": [
       "TDS LANDFILL             10687\n",
       "ORGANICS BY GOSH          5746\n",
       "BALCONES RECYCLING        3832\n",
       "TDS - MRF                 2947\n",
       "HORNSBY BEND              1651\n",
       "ONION CREEK                396\n",
       "MRF                        168\n",
       "ON ROUTE HIGH DUMP          81\n",
       "PARK CENTER                 74\n",
       "GREAT NORTHERN              69\n",
       "AUSTIN IRON AND METAL       50\n",
       "PARK BEND                    4\n",
       "AUSTIN WOOD RECYCLING        2\n",
       "WILCAB                       1\n",
       "BALCONES WOODS               1\n",
       "STEINER LANDFILL             1\n",
       "WESTFIELD                    1\n",
       "ST. EDWARDS                  1\n",
       "Name: dropoff_site, dtype: int64"
      ]
     },
     "execution_count": 30,
     "metadata": {},
     "output_type": "execute_result"
    }
   ],
   "source": [
    "austin_waste['dropoff_site'].value_counts()"
   ]
  },
  {
   "cell_type": "code",
   "execution_count": 71,
   "metadata": {},
   "outputs": [
    {
     "data": {
      "text/plain": [
       "4209.833333333333"
      ]
     },
     "execution_count": 71,
     "metadata": {},
     "output_type": "execute_result"
    }
   ],
   "source": [
    "austin_waste['dropoff_site'].value_counts().head(6).mean()"
   ]
  },
  {
   "cell_type": "code",
   "execution_count": 70,
   "metadata": {},
   "outputs": [
    {
     "data": {
      "text/plain": [
       "[Text(0, 0, '10687'),\n",
       " Text(0, 0, '5746'),\n",
       " Text(0, 0, '3832'),\n",
       " Text(0, 0, '2947'),\n",
       " Text(0, 0, '1651'),\n",
       " Text(0, 0, '396')]"
      ]
     },
     "execution_count": 70,
     "metadata": {},
     "output_type": "execute_result"
    },
    {
     "data": {
      "image/png": "[encoded data removed]",
      "text/plain": [
       "<Figure size 640x480 with 1 Axes>"
      ]
     },
     "metadata": {},
     "output_type": "display_data"
    }
   ],
   "source": [
    "ax = austin_waste['dropoff_site'].value_counts().head(6).plot(kind='barh')\n",
    "ax.bar_label(ax.containers[0], fmt='%.0f')"
   ]
  },
  {
   "attachments": {},
   "cell_type": "markdown",
   "metadata": {},
   "source": [
    "Based on the average value of the top 6 sites and visualization above, the Balcones Recycling site is selected for further analysis."
   ]
  },
  {
   "cell_type": "code",
   "execution_count": 31,
   "metadata": {},
   "outputs": [
    {
     "data": {
      "text/html": [
       "<div>\n",
       "<style scoped>\n",
       "    .dataframe tbody tr th:only-of-type {\n",
       "        vertical-align: middle;\n",
       "    }\n",
       "\n",
       "    .dataframe tbody tr th {\n",
       "        vertical-align: top;\n",
       "    }\n",
       "\n",
       "    .dataframe thead th {\n",
       "        text-align: right;\n",
       "    }\n",
       "</style>\n",
       "<table border=\"1\" class=\"dataframe\">\n",
       "  <thead>\n",
       "    <tr style=\"text-align: right;\">\n",
       "      <th></th>\n",
       "      <th>report_date</th>\n",
       "      <th>load_time</th>\n",
       "      <th>load_type</th>\n",
       "      <th>load_weight</th>\n",
       "      <th>dropoff_site</th>\n",
       "    </tr>\n",
       "  </thead>\n",
       "  <tbody>\n",
       "    <tr>\n",
       "      <th>111</th>\n",
       "      <td>2021-01-02</td>\n",
       "      <td>2021-01-02 12:22:00+00:00</td>\n",
       "      <td>RECYCLING - SINGLE STREAM</td>\n",
       "      <td>8760.0</td>\n",
       "      <td>BALCONES RECYCLING</td>\n",
       "    </tr>\n",
       "    <tr>\n",
       "      <th>112</th>\n",
       "      <td>2021-01-02</td>\n",
       "      <td>2021-01-02 12:45:00+00:00</td>\n",
       "      <td>RECYCLING - SINGLE STREAM</td>\n",
       "      <td>8500.0</td>\n",
       "      <td>BALCONES RECYCLING</td>\n",
       "    </tr>\n",
       "    <tr>\n",
       "      <th>113</th>\n",
       "      <td>2021-01-02</td>\n",
       "      <td>2021-01-02 11:55:00+00:00</td>\n",
       "      <td>RECYCLING - SINGLE STREAM</td>\n",
       "      <td>5020.0</td>\n",
       "      <td>BALCONES RECYCLING</td>\n",
       "    </tr>\n",
       "    <tr>\n",
       "      <th>114</th>\n",
       "      <td>2021-01-02</td>\n",
       "      <td>2021-01-02 11:48:00+00:00</td>\n",
       "      <td>RECYCLING - SINGLE STREAM</td>\n",
       "      <td>4440.0</td>\n",
       "      <td>BALCONES RECYCLING</td>\n",
       "    </tr>\n",
       "    <tr>\n",
       "      <th>115</th>\n",
       "      <td>2021-01-02</td>\n",
       "      <td>2021-01-02 09:58:00+00:00</td>\n",
       "      <td>RECYCLING - SINGLE STREAM</td>\n",
       "      <td>8660.0</td>\n",
       "      <td>BALCONES RECYCLING</td>\n",
       "    </tr>\n",
       "    <tr>\n",
       "      <th>...</th>\n",
       "      <td>...</td>\n",
       "      <td>...</td>\n",
       "      <td>...</td>\n",
       "      <td>...</td>\n",
       "      <td>...</td>\n",
       "    </tr>\n",
       "    <tr>\n",
       "      <th>26002</th>\n",
       "      <td>2021-07-07</td>\n",
       "      <td>2021-07-07 02:00:00+00:00</td>\n",
       "      <td>RECYCLING - SINGLE STREAM</td>\n",
       "      <td>4540.0</td>\n",
       "      <td>BALCONES RECYCLING</td>\n",
       "    </tr>\n",
       "    <tr>\n",
       "      <th>26003</th>\n",
       "      <td>2021-07-07</td>\n",
       "      <td>2021-07-07 10:00:00+00:00</td>\n",
       "      <td>RECYCLING - SINGLE STREAM</td>\n",
       "      <td>8660.0</td>\n",
       "      <td>BALCONES RECYCLING</td>\n",
       "    </tr>\n",
       "    <tr>\n",
       "      <th>26004</th>\n",
       "      <td>2021-07-07</td>\n",
       "      <td>2021-07-07 12:00:00+00:00</td>\n",
       "      <td>RECYCLING - SINGLE STREAM</td>\n",
       "      <td>4740.0</td>\n",
       "      <td>BALCONES RECYCLING</td>\n",
       "    </tr>\n",
       "    <tr>\n",
       "      <th>26005</th>\n",
       "      <td>2021-07-07</td>\n",
       "      <td>2021-07-07 09:00:00+00:00</td>\n",
       "      <td>RECYCLING - SINGLE STREAM</td>\n",
       "      <td>9200.0</td>\n",
       "      <td>BALCONES RECYCLING</td>\n",
       "    </tr>\n",
       "    <tr>\n",
       "      <th>26006</th>\n",
       "      <td>2021-07-07</td>\n",
       "      <td>2021-07-07 10:00:00+00:00</td>\n",
       "      <td>RECYCLING - SINGLE STREAM</td>\n",
       "      <td>11500.0</td>\n",
       "      <td>BALCONES RECYCLING</td>\n",
       "    </tr>\n",
       "  </tbody>\n",
       "</table>\n",
       "<p>3832 rows × 5 columns</p>\n",
       "</div>"
      ],
      "text/plain": [
       "      report_date                 load_time                  load_type  \\\n",
       "111    2021-01-02 2021-01-02 12:22:00+00:00  RECYCLING - SINGLE STREAM   \n",
       "112    2021-01-02 2021-01-02 12:45:00+00:00  RECYCLING - SINGLE STREAM   \n",
       "113    2021-01-02 2021-01-02 11:55:00+00:00  RECYCLING - SINGLE STREAM   \n",
       "114    2021-01-02 2021-01-02 11:48:00+00:00  RECYCLING - SINGLE STREAM   \n",
       "115    2021-01-02 2021-01-02 09:58:00+00:00  RECYCLING - SINGLE STREAM   \n",
       "...           ...                       ...                        ...   \n",
       "26002  2021-07-07 2021-07-07 02:00:00+00:00  RECYCLING - SINGLE STREAM   \n",
       "26003  2021-07-07 2021-07-07 10:00:00+00:00  RECYCLING - SINGLE STREAM   \n",
       "26004  2021-07-07 2021-07-07 12:00:00+00:00  RECYCLING - SINGLE STREAM   \n",
       "26005  2021-07-07 2021-07-07 09:00:00+00:00  RECYCLING - SINGLE STREAM   \n",
       "26006  2021-07-07 2021-07-07 10:00:00+00:00  RECYCLING - SINGLE STREAM   \n",
       "\n",
       "       load_weight        dropoff_site  \n",
       "111         8760.0  BALCONES RECYCLING  \n",
       "112         8500.0  BALCONES RECYCLING  \n",
       "113         5020.0  BALCONES RECYCLING  \n",
       "114         4440.0  BALCONES RECYCLING  \n",
       "115         8660.0  BALCONES RECYCLING  \n",
       "...            ...                 ...  \n",
       "26002       4540.0  BALCONES RECYCLING  \n",
       "26003       8660.0  BALCONES RECYCLING  \n",
       "26004       4740.0  BALCONES RECYCLING  \n",
       "26005       9200.0  BALCONES RECYCLING  \n",
       "26006      11500.0  BALCONES RECYCLING  \n",
       "\n",
       "[3832 rows x 5 columns]"
      ]
     },
     "execution_count": 31,
     "metadata": {},
     "output_type": "execute_result"
    }
   ],
   "source": [
    "austin_waste[austin_waste['dropoff_site'] == 'BALCONES RECYCLING']"
   ]
  },
  {
   "attachments": {},
   "cell_type": "markdown",
   "metadata": {},
   "source": [
    "Balcones recycling was chosen because it has a number of data that is not too much or not too little and is felt to be able to be used as a further research sample."
   ]
  },
  {
   "attachments": {},
   "cell_type": "markdown",
   "metadata": {},
   "source": [
    "5. Use the site that you choose to check whether the load_weight data is outlier or not.Use the right technique according to the distribution of the data!.If so, what percentage of the outlier?and compare the central tendency data that has been released outliers with those that have not (the result of calculation number 3)."
   ]
  },
  {
   "cell_type": "code",
   "execution_count": 32,
   "metadata": {},
   "outputs": [],
   "source": [
    "balconesSite =  austin_waste[austin_waste['dropoff_site'] == 'BALCONES RECYCLING']"
   ]
  },
  {
   "cell_type": "code",
   "execution_count": 33,
   "metadata": {},
   "outputs": [
    {
     "data": {
      "text/html": [
       "<div>\n",
       "<style scoped>\n",
       "    .dataframe tbody tr th:only-of-type {\n",
       "        vertical-align: middle;\n",
       "    }\n",
       "\n",
       "    .dataframe tbody tr th {\n",
       "        vertical-align: top;\n",
       "    }\n",
       "\n",
       "    .dataframe thead th {\n",
       "        text-align: right;\n",
       "    }\n",
       "</style>\n",
       "<table border=\"1\" class=\"dataframe\">\n",
       "  <thead>\n",
       "    <tr style=\"text-align: right;\">\n",
       "      <th></th>\n",
       "      <th>report_date</th>\n",
       "      <th>load_time</th>\n",
       "      <th>load_type</th>\n",
       "      <th>load_weight</th>\n",
       "      <th>dropoff_site</th>\n",
       "    </tr>\n",
       "  </thead>\n",
       "  <tbody>\n",
       "    <tr>\n",
       "      <th>111</th>\n",
       "      <td>2021-01-02</td>\n",
       "      <td>2021-01-02 12:22:00+00:00</td>\n",
       "      <td>RECYCLING - SINGLE STREAM</td>\n",
       "      <td>8760.0</td>\n",
       "      <td>BALCONES RECYCLING</td>\n",
       "    </tr>\n",
       "    <tr>\n",
       "      <th>112</th>\n",
       "      <td>2021-01-02</td>\n",
       "      <td>2021-01-02 12:45:00+00:00</td>\n",
       "      <td>RECYCLING - SINGLE STREAM</td>\n",
       "      <td>8500.0</td>\n",
       "      <td>BALCONES RECYCLING</td>\n",
       "    </tr>\n",
       "    <tr>\n",
       "      <th>113</th>\n",
       "      <td>2021-01-02</td>\n",
       "      <td>2021-01-02 11:55:00+00:00</td>\n",
       "      <td>RECYCLING - SINGLE STREAM</td>\n",
       "      <td>5020.0</td>\n",
       "      <td>BALCONES RECYCLING</td>\n",
       "    </tr>\n",
       "    <tr>\n",
       "      <th>114</th>\n",
       "      <td>2021-01-02</td>\n",
       "      <td>2021-01-02 11:48:00+00:00</td>\n",
       "      <td>RECYCLING - SINGLE STREAM</td>\n",
       "      <td>4440.0</td>\n",
       "      <td>BALCONES RECYCLING</td>\n",
       "    </tr>\n",
       "    <tr>\n",
       "      <th>115</th>\n",
       "      <td>2021-01-02</td>\n",
       "      <td>2021-01-02 09:58:00+00:00</td>\n",
       "      <td>RECYCLING - SINGLE STREAM</td>\n",
       "      <td>8660.0</td>\n",
       "      <td>BALCONES RECYCLING</td>\n",
       "    </tr>\n",
       "    <tr>\n",
       "      <th>...</th>\n",
       "      <td>...</td>\n",
       "      <td>...</td>\n",
       "      <td>...</td>\n",
       "      <td>...</td>\n",
       "      <td>...</td>\n",
       "    </tr>\n",
       "    <tr>\n",
       "      <th>26002</th>\n",
       "      <td>2021-07-07</td>\n",
       "      <td>2021-07-07 02:00:00+00:00</td>\n",
       "      <td>RECYCLING - SINGLE STREAM</td>\n",
       "      <td>4540.0</td>\n",
       "      <td>BALCONES RECYCLING</td>\n",
       "    </tr>\n",
       "    <tr>\n",
       "      <th>26003</th>\n",
       "      <td>2021-07-07</td>\n",
       "      <td>2021-07-07 10:00:00+00:00</td>\n",
       "      <td>RECYCLING - SINGLE STREAM</td>\n",
       "      <td>8660.0</td>\n",
       "      <td>BALCONES RECYCLING</td>\n",
       "    </tr>\n",
       "    <tr>\n",
       "      <th>26004</th>\n",
       "      <td>2021-07-07</td>\n",
       "      <td>2021-07-07 12:00:00+00:00</td>\n",
       "      <td>RECYCLING - SINGLE STREAM</td>\n",
       "      <td>4740.0</td>\n",
       "      <td>BALCONES RECYCLING</td>\n",
       "    </tr>\n",
       "    <tr>\n",
       "      <th>26005</th>\n",
       "      <td>2021-07-07</td>\n",
       "      <td>2021-07-07 09:00:00+00:00</td>\n",
       "      <td>RECYCLING - SINGLE STREAM</td>\n",
       "      <td>9200.0</td>\n",
       "      <td>BALCONES RECYCLING</td>\n",
       "    </tr>\n",
       "    <tr>\n",
       "      <th>26006</th>\n",
       "      <td>2021-07-07</td>\n",
       "      <td>2021-07-07 10:00:00+00:00</td>\n",
       "      <td>RECYCLING - SINGLE STREAM</td>\n",
       "      <td>11500.0</td>\n",
       "      <td>BALCONES RECYCLING</td>\n",
       "    </tr>\n",
       "  </tbody>\n",
       "</table>\n",
       "<p>3832 rows × 5 columns</p>\n",
       "</div>"
      ],
      "text/plain": [
       "      report_date                 load_time                  load_type  \\\n",
       "111    2021-01-02 2021-01-02 12:22:00+00:00  RECYCLING - SINGLE STREAM   \n",
       "112    2021-01-02 2021-01-02 12:45:00+00:00  RECYCLING - SINGLE STREAM   \n",
       "113    2021-01-02 2021-01-02 11:55:00+00:00  RECYCLING - SINGLE STREAM   \n",
       "114    2021-01-02 2021-01-02 11:48:00+00:00  RECYCLING - SINGLE STREAM   \n",
       "115    2021-01-02 2021-01-02 09:58:00+00:00  RECYCLING - SINGLE STREAM   \n",
       "...           ...                       ...                        ...   \n",
       "26002  2021-07-07 2021-07-07 02:00:00+00:00  RECYCLING - SINGLE STREAM   \n",
       "26003  2021-07-07 2021-07-07 10:00:00+00:00  RECYCLING - SINGLE STREAM   \n",
       "26004  2021-07-07 2021-07-07 12:00:00+00:00  RECYCLING - SINGLE STREAM   \n",
       "26005  2021-07-07 2021-07-07 09:00:00+00:00  RECYCLING - SINGLE STREAM   \n",
       "26006  2021-07-07 2021-07-07 10:00:00+00:00  RECYCLING - SINGLE STREAM   \n",
       "\n",
       "       load_weight        dropoff_site  \n",
       "111         8760.0  BALCONES RECYCLING  \n",
       "112         8500.0  BALCONES RECYCLING  \n",
       "113         5020.0  BALCONES RECYCLING  \n",
       "114         4440.0  BALCONES RECYCLING  \n",
       "115         8660.0  BALCONES RECYCLING  \n",
       "...            ...                 ...  \n",
       "26002       4540.0  BALCONES RECYCLING  \n",
       "26003       8660.0  BALCONES RECYCLING  \n",
       "26004       4740.0  BALCONES RECYCLING  \n",
       "26005       9200.0  BALCONES RECYCLING  \n",
       "26006      11500.0  BALCONES RECYCLING  \n",
       "\n",
       "[3832 rows x 5 columns]"
      ]
     },
     "execution_count": 33,
     "metadata": {},
     "output_type": "execute_result"
    }
   ],
   "source": [
    "balconesSite"
   ]
  },
  {
   "attachments": {},
   "cell_type": "markdown",
   "metadata": {},
   "source": [
    "Create a function to test and search for outline values and find out the skewness in the sample data that"
   ]
  },
  {
   "cell_type": "code",
   "execution_count": 34,
   "metadata": {},
   "outputs": [],
   "source": [
    "def plot_dist(balconesSite, col):\n",
    "    fig, axes = plt.subplots(ncols = 2, figsize = (15, 5))\n",
    "    \n",
    "    # histogram\n",
    "    sns.histplot(balconesSite[col],ax = axes[0], bins=30)\n",
    "    axes[0].set_title(f\"Histogram '{col}'\")\n",
    "    axes[0].axvline(balconesSite[col].mean(), color = 'red', linestyle = 'dashed', label = 'mean')\n",
    "    axes[0].axvline(balconesSite[col].median(), color = 'green', linestyle = 'dashed', label = 'median')\n",
    "    axes[0].legend()\n",
    "    \n",
    "    # boxplot\n",
    "    sns.boxplot(y=balconesSite[col], ax =  axes[1])\n",
    "    axes[1].set_title(f\"Boxplot '{col}'\")\n",
    "    \n",
    "    plt.show()\n",
    "    \n",
    "    # skewness\n",
    "    print(balconesSite[col].name + ' Kurtosis: ' + str(balconesSite[col].kurt()))\n",
    "    print(balconesSite[col].name + ' Skewness: ' + str(balconesSite[col].skew()))\n",
    "    if -0.5 <= balconesSite[col].skew() <= 0.5:\n",
    "        print(\"Columns '{}' normal distribution\".format(col))\n",
    "    elif balconesSite[col].skew() > 0.5:\n",
    "        print(\"Columns '{}' right skewed\".format(col))\n",
    "    elif balconesSite[col].skew() < -0.5:\n",
    "        print(\"Columns '{}' left skewed\".format(col))"
   ]
  },
  {
   "cell_type": "code",
   "execution_count": 35,
   "metadata": {},
   "outputs": [
    {
     "data": {
      "text/plain": [
       "['report_date', 'load_time', 'load_type', 'load_weight', 'dropoff_site']"
      ]
     },
     "execution_count": 35,
     "metadata": {},
     "output_type": "execute_result"
    }
   ],
   "source": [
    "df_col = balconesSite.columns.tolist()\n",
    "df_col"
   ]
  },
  {
   "cell_type": "code",
   "execution_count": 36,
   "metadata": {},
   "outputs": [
    {
     "data": {
      "image/png": "[encoded data removed]",
      "text/plain": [
       "<Figure size 1500x500 with 2 Axes>"
      ]
     },
     "metadata": {},
     "output_type": "display_data"
    },
    {
     "name": "stdout",
     "output_type": "stream",
     "text": [
      "load_weight Kurtosis: -0.40373874813958155\n",
      "load_weight Skewness: 0.10205107263094478\n",
      "Columns 'load_weight' normal distribution\n"
     ]
    }
   ],
   "source": [
    "plot_dist(balconesSite, df_col[3])"
   ]
  },
  {
   "attachments": {},
   "cell_type": "markdown",
   "metadata": {},
   "source": [
    "Based on the test, Balcones Recycling has a skewness value of '0.10205107263094478' and is 'Normal Distribution' because the Skewness value is vulnerable to the minimum value of -0.5 to 0.5"
   ]
  },
  {
   "attachments": {},
   "cell_type": "markdown",
   "metadata": {},
   "source": [
    "To replace the outlier value, the Z Score method is selected, this method is chosen because the data used is a normal distribution."
   ]
  },
  {
   "cell_type": "code",
   "execution_count": 37,
   "metadata": {},
   "outputs": [
    {
     "name": "stderr",
     "output_type": "stream",
     "text": [
      "C:\\Users\\PLN\\AppData\\Local\\Temp\\ipykernel_3896\\607422702.py:2: SettingWithCopyWarning: \n",
      "A value is trying to be set on a copy of a slice from a DataFrame.\n",
      "Try using .loc[row_indexer,col_indexer] = value instead\n",
      "\n",
      "See the caveats in the documentation: https://pandas.pydata.org/pandas-docs/stable/user_guide/indexing.html#returning-a-view-versus-a-copy\n",
      "  balconesSite['Z-Score normal'] = stats.zscore(balconesSite['load_weight'])\n"
     ]
    }
   ],
   "source": [
    "# Create a new column container to hold the Z-Score value\n",
    "balconesSite['Z-Score normal'] = stats.zscore(balconesSite['load_weight'])"
   ]
  },
  {
   "attachments": {},
   "cell_type": "markdown",
   "metadata": {},
   "source": [
    "Creating a new dataframe as data that has been clean of outline data, by using data that has a Z-Score value of less than 3 and Z-Score more than -3 as the lower limit and the upper limit, based on 3 times the standard deviation."
   ]
  },
  {
   "cell_type": "code",
   "execution_count": 38,
   "metadata": {},
   "outputs": [],
   "source": [
    "balcones_NoOutliner = balconesSite[(balconesSite['Z-Score normal']<= 3)&(balconesSite['Z-Score normal']>= -3)]"
   ]
  },
  {
   "cell_type": "code",
   "execution_count": 39,
   "metadata": {},
   "outputs": [
    {
     "data": {
      "text/plain": [
       "7"
      ]
     },
     "execution_count": 39,
     "metadata": {},
     "output_type": "execute_result"
    }
   ],
   "source": [
    "# Compares the amount of data that still has outliner and there is no outliner\n",
    "perbandinganJumlahData = len(balconesSite) - len(balcones_NoOutliner)\n",
    "perbandinganJumlahData"
   ]
  },
  {
   "attachments": {},
   "cell_type": "markdown",
   "metadata": {},
   "source": [
    "Obtained 7 data which is the outliner contained in the Balconessite data."
   ]
  },
  {
   "attachments": {},
   "cell_type": "markdown",
   "metadata": {},
   "source": [
    "Furthermore, the ratio of central tendency (mean, median, mode) is also sought between data that still exists outliner (balconessite) and data that has no outliner (balcones_noutliner)"
   ]
  },
  {
   "cell_type": "code",
   "execution_count": 40,
   "metadata": {},
   "outputs": [
    {
     "name": "stdout",
     "output_type": "stream",
     "text": [
      "Mean data yang masih terdapat outliner: 9464.934759916492\n",
      "Mean data yang tidak terdapat outliner: 9441.254901960785\n"
     ]
    }
   ],
   "source": [
    "# Looking for the mean comparison\n",
    "balconMean = balconesSite['load_weight'].mean()\n",
    "noOutMean = balcones_NoOutliner['load_weight'].mean()\n",
    "\n",
    "print('Mean data yang masih terdapat outliner:', balconMean)\n",
    "print('Mean data yang tidak terdapat outliner:', noOutMean)"
   ]
  },
  {
   "cell_type": "code",
   "execution_count": 41,
   "metadata": {},
   "outputs": [
    {
     "name": "stdout",
     "output_type": "stream",
     "text": [
      "Median data yang masih terdapat outliner: 9840.0\n",
      "Median data yang tidak terdapat outliner: 9820.0\n"
     ]
    }
   ],
   "source": [
    "# Looking for median comparisons\n",
    "balconMedian = balconesSite['load_weight'].median()\n",
    "noOutMedian = balcones_NoOutliner['load_weight'].median()\n",
    "\n",
    "print('Median data yang masih terdapat outliner:', balconMedian)\n",
    "print('Median data yang tidak terdapat outliner:', noOutMedian)"
   ]
  },
  {
   "cell_type": "code",
   "execution_count": 42,
   "metadata": {},
   "outputs": [
    {
     "name": "stdout",
     "output_type": "stream",
     "text": [
      "Modus data yang masih terdapat outliner: 0    11880.0\n",
      "Name: load_weight, dtype: float64\n",
      "Modus data yang tidak terdapat outliner: 0    11880.0\n",
      "Name: load_weight, dtype: float64\n"
     ]
    }
   ],
   "source": [
    "# Looking for comparison of mode\n",
    "balconMode = balconesSite['load_weight'].mode()\n",
    "noOutMode = balcones_NoOutliner['load_weight'].mode()\n",
    "\n",
    "print('Modus data yang masih terdapat outliner:', balconMode)\n",
    "print('Modus data yang tidak terdapat outliner:', noOutMode)"
   ]
  },
  {
   "attachments": {},
   "cell_type": "markdown",
   "metadata": {},
   "source": [
    "6. Use the site that you have chosen to calculate the range, variance, and standard deviation for data load_weight.Provide insight from the results of your calculations to the city government (make sure the data used is data that has been cleaned from outliers)."
   ]
  },
  {
   "attachments": {},
   "cell_type": "markdown",
   "metadata": {},
   "source": [
    "By using data from Balcones_noutliner/ Site Balcones Recycling that no longer has outliners, then searched for the range of range, variance, and standard deviation in the load_weight data"
   ]
  },
  {
   "cell_type": "code",
   "execution_count": 43,
   "metadata": {},
   "outputs": [
    {
     "name": "stdout",
     "output_type": "stream",
     "text": [
      "load_weight range: 20840.0\n",
      "Z-Score normal range: 5.3964315163318695\n"
     ]
    }
   ],
   "source": [
    "# Range\n",
    "case = ['load_weight','Z-Score normal']\n",
    "for col in case:\n",
    "    print(balcones_NoOutliner[col].name + ' range: ' + str(balcones_NoOutliner[col].max() - balcones_NoOutliner[col].min()))"
   ]
  },
  {
   "cell_type": "code",
   "execution_count": 44,
   "metadata": {},
   "outputs": [
    {
     "name": "stdout",
     "output_type": "stream",
     "text": [
      "14633350.726064494\n"
     ]
    }
   ],
   "source": [
    "# Get the Variance\n",
    "print(balcones_NoOutliner['load_weight'].var())"
   ]
  },
  {
   "cell_type": "code",
   "execution_count": 45,
   "metadata": {},
   "outputs": [
    {
     "name": "stdout",
     "output_type": "stream",
     "text": [
      "3825.3562874671547\n"
     ]
    }
   ],
   "source": [
    "# Get the Standard Deviation\n",
    "print(balcones_NoOutliner['load_weight'].std())"
   ]
  },
  {
   "attachments": {},
   "cell_type": "markdown",
   "metadata": {},
   "source": [
    "Based on the value of the value distribution obtained,\n",
    "- The range for load_weight is found at '20840', namely how far the data is spread from the lowest value to the highest value and based on the Normal Z-Score range found at '5.3964315163318695' for its distribution in Balcones Recycling.\n",
    "- The value of the variance obtained by the large distribution of values for each data is obtained '14633350.726064494'\n",
    "This large variance value indicates that there are variations in the data held at the Balcones Recycling site.\n",
    "- Based on the Balcones Recycling site, the standard deviation value indicates that the value spreads from the mean found '3825.3562874671547' also indicates that the higher the standard deviation, the greater the variation in the data."
   ]
  },
  {
   "attachments": {},
   "cell_type": "markdown",
   "metadata": {},
   "source": [
    "7. The city government plans to add a new site. Provide analysis and suggestions related to how much the storage capacity on the new site is based on the calculation of confidence interval. What data do you use, is it only from one site or from the whole site?"
   ]
  },
  {
   "cell_type": "code",
   "execution_count": 46,
   "metadata": {},
   "outputs": [],
   "source": [
    "daily_noOut = balcones_NoOutliner[['report_date','load_weight']].groupby('report_date').sum()"
   ]
  },
  {
   "cell_type": "code",
   "execution_count": 47,
   "metadata": {},
   "outputs": [
    {
     "data": {
      "text/html": [
       "<div>\n",
       "<style scoped>\n",
       "    .dataframe tbody tr th:only-of-type {\n",
       "        vertical-align: middle;\n",
       "    }\n",
       "\n",
       "    .dataframe tbody tr th {\n",
       "        vertical-align: top;\n",
       "    }\n",
       "\n",
       "    .dataframe thead th {\n",
       "        text-align: right;\n",
       "    }\n",
       "</style>\n",
       "<table border=\"1\" class=\"dataframe\">\n",
       "  <thead>\n",
       "    <tr style=\"text-align: right;\">\n",
       "      <th></th>\n",
       "      <th>load_weight</th>\n",
       "    </tr>\n",
       "    <tr>\n",
       "      <th>report_date</th>\n",
       "      <th></th>\n",
       "    </tr>\n",
       "  </thead>\n",
       "  <tbody>\n",
       "    <tr>\n",
       "      <th>2021-01-02</th>\n",
       "      <td>555100.0</td>\n",
       "    </tr>\n",
       "    <tr>\n",
       "      <th>2021-01-04</th>\n",
       "      <td>55160.0</td>\n",
       "    </tr>\n",
       "    <tr>\n",
       "      <th>2021-01-06</th>\n",
       "      <td>571820.0</td>\n",
       "    </tr>\n",
       "    <tr>\n",
       "      <th>2021-01-07</th>\n",
       "      <td>570500.0</td>\n",
       "    </tr>\n",
       "    <tr>\n",
       "      <th>2021-01-08</th>\n",
       "      <td>488620.0</td>\n",
       "    </tr>\n",
       "    <tr>\n",
       "      <th>...</th>\n",
       "      <td>...</td>\n",
       "    </tr>\n",
       "    <tr>\n",
       "      <th>2021-06-30</th>\n",
       "      <td>366780.0</td>\n",
       "    </tr>\n",
       "    <tr>\n",
       "      <th>2021-07-01</th>\n",
       "      <td>379940.0</td>\n",
       "    </tr>\n",
       "    <tr>\n",
       "      <th>2021-07-02</th>\n",
       "      <td>326910.0</td>\n",
       "    </tr>\n",
       "    <tr>\n",
       "      <th>2021-07-05</th>\n",
       "      <td>10280.0</td>\n",
       "    </tr>\n",
       "    <tr>\n",
       "      <th>2021-07-07</th>\n",
       "      <td>120420.0</td>\n",
       "    </tr>\n",
       "  </tbody>\n",
       "</table>\n",
       "<p>94 rows × 1 columns</p>\n",
       "</div>"
      ],
      "text/plain": [
       "             load_weight\n",
       "report_date             \n",
       "2021-01-02      555100.0\n",
       "2021-01-04       55160.0\n",
       "2021-01-06      571820.0\n",
       "2021-01-07      570500.0\n",
       "2021-01-08      488620.0\n",
       "...                  ...\n",
       "2021-06-30      366780.0\n",
       "2021-07-01      379940.0\n",
       "2021-07-02      326910.0\n",
       "2021-07-05       10280.0\n",
       "2021-07-07      120420.0\n",
       "\n",
       "[94 rows x 1 columns]"
      ]
     },
     "execution_count": 47,
     "metadata": {},
     "output_type": "execute_result"
    }
   ],
   "source": [
    "daily_noOut"
   ]
  },
  {
   "attachments": {},
   "cell_type": "markdown",
   "metadata": {},
   "source": [
    "Calculate Confidence Interval on Site Balcones Recycling"
   ]
  },
  {
   "cell_type": "code",
   "execution_count": 48,
   "metadata": {},
   "outputs": [
    {
     "name": "stdout",
     "output_type": "stream",
     "text": [
      "Sample mean: load_weight    384178.723404\n",
      "dtype: float64\n",
      "Standard deviation: load_weight    186828.845837\n",
      "dtype: float64\n",
      "Confidence level: 0.95\n",
      "Degrees of freedom: 93\n",
      "t-value: 1.661403673636714\n",
      "Standard error of the mean: load_weight    19269.924101\n",
      "dtype: float64\n",
      "Margin of error: load_weight    32015.122692\n",
      "dtype: float64\n",
      "Confidence interval: (load_weight    352163.600712\n",
      "dtype: float64, load_weight    416193.846096\n",
      "dtype: float64)\n"
     ]
    }
   ],
   "source": [
    "# calculate the mean and standard deviation of the sample\n",
    "sample_mean = np.mean(daily_noOut,axis=0)\n",
    "sample_std = np.std(daily_noOut)\n",
    "\n",
    "# set the level of confidence (e.g., 95%)\n",
    "conf_level = 0.95\n",
    "\n",
    "# calculate the degrees of freedom\n",
    "df = len(daily_noOut) - 1\n",
    "\n",
    "# calculate the t-value for the confidence level and degrees of freedom\n",
    "t_val = t.ppf(conf_level, df)\n",
    "\n",
    "# calculate the standard error of the mean\n",
    "std_err = sample_std / np.sqrt(len(daily_noOut))\n",
    "\n",
    "# calculate the margin of error\n",
    "margin_err = t_val * std_err\n",
    "\n",
    "# calculate the confidence interval\n",
    "conf_int = (sample_mean - margin_err, sample_mean + margin_err)\n",
    "\n",
    "print('Sample mean:', sample_mean)\n",
    "print('Standard deviation:', sample_std)\n",
    "print('Confidence level:', conf_level)\n",
    "print('Degrees of freedom:', df)\n",
    "print('t-value:', t_val)\n",
    "print('Standard error of the mean:', std_err)\n",
    "print('Margin of error:', margin_err)\n",
    "print('Confidence interval:', conf_int)"
   ]
  },
  {
   "attachments": {},
   "cell_type": "markdown",
   "metadata": {},
   "source": [
    "Based on the analysis obtained by a 95% confidence interval, it can provide a range of waste in the disposal and processing of waste between 352163.600712kg to 416193.846096kg on Load Weight Analysis on Balcones Recycling for 2021. So if government want to make new site, it must be in this range."
   ]
  },
  {
   "attachments": {},
   "cell_type": "markdown",
   "metadata": {},
   "source": [
    "8. Make a hypothesis test analysis from the data from the available data (the case is released). Define the H0 and H1 and do the calculation using t-test in accordance with your hypothesis. Write the conclusion from the results of your calculations to the city government."
   ]
  },
  {
   "attachments": {},
   "cell_type": "markdown",
   "metadata": {},
   "source": [
    "Analyzing the average waste discharged during 2021 from 2 different sides, namely TDS Landfill and Organics by Gosh to find out the amount of waste discharged in both places significant or not by using two sample independent two tailed tests."
   ]
  },
  {
   "cell_type": "code",
   "execution_count": 49,
   "metadata": {},
   "outputs": [
    {
     "data": {
      "text/plain": [
       "TDS LANDFILL          10687\n",
       "ORGANICS BY GOSH       5746\n",
       "BALCONES RECYCLING     3832\n",
       "TDS - MRF              2947\n",
       "HORNSBY BEND           1651\n",
       "Name: dropoff_site, dtype: int64"
      ]
     },
     "execution_count": 49,
     "metadata": {},
     "output_type": "execute_result"
    }
   ],
   "source": [
    "austin_waste['dropoff_site'].value_counts().head()"
   ]
  },
  {
   "attachments": {},
   "cell_type": "markdown",
   "metadata": {},
   "source": [
    "TDS Landfill and Organics by Gosh are chosen because both are at the top in position 1 and position 2"
   ]
  },
  {
   "attachments": {},
   "cell_type": "markdown",
   "metadata": {},
   "source": [
    "Hypothesis In this case:\n",
    "\n",
    "**H0: μ_TDS = μ_Organics**\n",
    "\n",
    "**H1: μ_TDS != μ_Organics**"
   ]
  },
  {
   "cell_type": "code",
   "execution_count": 50,
   "metadata": {},
   "outputs": [
    {
     "name": "stdout",
     "output_type": "stream",
     "text": [
      "Average load weight of TDS LANDFILL a day: 1006797.0\n",
      "Average load weight of ORGANICS BY GOSH a day: 455934.0\n"
     ]
    }
   ],
   "source": [
    "load_TDS_LANDFILL = austin_waste[austin_waste['dropoff_site']=='TDS LANDFILL'][['report_date','load_weight']].groupby('report_date').sum()\n",
    "load_ORGANICS_BY_GOSH  = austin_waste[austin_waste['dropoff_site']=='ORGANICS BY GOSH'][['report_date','load_weight']].groupby('report_date').sum()\n",
    "\n",
    "print('Average load weight of TDS LANDFILL a day: {}'.format(np.round(load_TDS_LANDFILL.load_weight.mean())))\n",
    "print('Average load weight of ORGANICS BY GOSH a day: {}'.format(np.round(load_ORGANICS_BY_GOSH.load_weight.mean())))"
   ]
  },
  {
   "cell_type": "code",
   "execution_count": 51,
   "metadata": {},
   "outputs": [
    {
     "name": "stdout",
     "output_type": "stream",
     "text": [
      "P-value: 1.725597479238912e-26\n",
      "t-statistics: 11.722323502285755\n"
     ]
    }
   ],
   "source": [
    "t_stat, p_val = stats.ttest_ind(load_TDS_LANDFILL,load_ORGANICS_BY_GOSH)\n",
    "print('P-value:',p_val[0])\n",
    "print('t-statistics:',t_stat[0])"
   ]
  },
  {
   "cell_type": "code",
   "execution_count": 52,
   "metadata": {},
   "outputs": [
    {
     "name": "stderr",
     "output_type": "stream",
     "text": [
      "C:\\Users\\PLN\\AppData\\Local\\Temp\\ipykernel_3896\\496270770.py:6: UserWarning: \n",
      "\n",
      "`distplot` is a deprecated function and will be removed in seaborn v0.14.0.\n",
      "\n",
      "Please adapt your code to use either `displot` (a figure-level function with\n",
      "similar flexibility) or `histplot` (an axes-level function for histograms).\n",
      "\n",
      "For a guide to updating your code to use the new functions, please see\n",
      "https://gist.github.com/mwaskom/de44147ed2974457ad6372750bbe5751\n",
      "\n",
      "  sns.distplot(TPS_pop, label='TPS LANDFILL Average load weight a Day *Pop',color='blue')\n",
      "C:\\Users\\PLN\\AppData\\Local\\Temp\\ipykernel_3896\\496270770.py:7: UserWarning: \n",
      "\n",
      "`distplot` is a deprecated function and will be removed in seaborn v0.14.0.\n",
      "\n",
      "Please adapt your code to use either `displot` (a figure-level function with\n",
      "similar flexibility) or `histplot` (an axes-level function for histograms).\n",
      "\n",
      "For a guide to updating your code to use the new functions, please see\n",
      "https://gist.github.com/mwaskom/de44147ed2974457ad6372750bbe5751\n",
      "\n",
      "  sns.distplot(Organics_pop, label='ORGANICS BY GOSH Average load weight a Day *Pop',color='red')\n"
     ]
    },
    {
     "data": {
      "text/plain": [
       "<matplotlib.legend.Legend at 0x19980b47310>"
      ]
     },
     "execution_count": 52,
     "metadata": {},
     "output_type": "execute_result"
    },
    {
     "data": {
      "image/png": "[encoded data removed]",
      "text/plain": [
       "<Figure size 1600x500 with 1 Axes>"
      ]
     },
     "metadata": {},
     "output_type": "display_data"
    }
   ],
   "source": [
    "TPS_pop = np.random.normal(load_TDS_LANDFILL.load_weight.mean(),load_TDS_LANDFILL.load_weight.std(),10000)\n",
    "Organics_pop = np.random.normal(load_ORGANICS_BY_GOSH.load_weight.mean(),load_ORGANICS_BY_GOSH.load_weight.std(),10000)\n",
    "\n",
    "ci = stats.norm.interval(0.95, load_TDS_LANDFILL.load_weight.mean(), load_TDS_LANDFILL.load_weight.std())\n",
    "plt.figure(figsize=(16,5))\n",
    "sns.distplot(TPS_pop, label='TPS LANDFILL Average load weight a Day *Pop',color='blue')\n",
    "sns.distplot(Organics_pop, label='ORGANICS BY GOSH Average load weight a Day *Pop',color='red')\n",
    "\n",
    "plt.axvline(load_TDS_LANDFILL.load_weight.mean(), color='blue', linewidth=2, label='TPS LANDFILL mean')\n",
    "plt.axvline(load_ORGANICS_BY_GOSH.load_weight.mean(), color='red',  linewidth=2, label='ORGANICS BY GOSH mean')\n",
    "\n",
    "plt.axvline(ci[1], color='green', linestyle='dashed', linewidth=2, label='confidence threshold of 95%')\n",
    "plt.axvline(ci[0], color='green', linestyle='dashed', linewidth=2)\n",
    "\n",
    "plt.axvline(TPS_pop.mean()+t_stat[0]*TPS_pop.std(), color='black', linestyle='dashed', linewidth=2, label = 'Alternative Hypothesis')\n",
    "plt.axvline(TPS_pop.mean()-t_stat[0]*TPS_pop.std(), color='black', linestyle='dashed', linewidth=2)\n",
    "\n",
    "plt.legend()"
   ]
  },
  {
   "attachments": {},
   "cell_type": "markdown",
   "metadata": {},
   "source": [
    "Based on research conducted by the two sample independent method, we can conclude that we reject the null hypothesis between TPS Landfill and Organics by Gosh have significant differences in terms of disposal and processing of waste during 2021."
   ]
  },
  {
   "attachments": {},
   "cell_type": "markdown",
   "metadata": {},
   "source": [
    "# Math Probel"
   ]
  },
  {
   "attachments": {},
   "cell_type": "markdown",
   "metadata": {},
   "source": [
    "Forecasting to predict the future value of waste loads in the city of Austin by using the acceleration formula"
   ]
  },
  {
   "cell_type": "code",
   "execution_count": 53,
   "metadata": {},
   "outputs": [
    {
     "data": {
      "text/html": [
       "<div>\n",
       "<style scoped>\n",
       "    .dataframe tbody tr th:only-of-type {\n",
       "        vertical-align: middle;\n",
       "    }\n",
       "\n",
       "    .dataframe tbody tr th {\n",
       "        vertical-align: top;\n",
       "    }\n",
       "\n",
       "    .dataframe thead th {\n",
       "        text-align: right;\n",
       "    }\n",
       "</style>\n",
       "<table border=\"1\" class=\"dataframe\">\n",
       "  <thead>\n",
       "    <tr style=\"text-align: right;\">\n",
       "      <th></th>\n",
       "      <th>load_weight</th>\n",
       "    </tr>\n",
       "    <tr>\n",
       "      <th>report_date</th>\n",
       "      <th></th>\n",
       "    </tr>\n",
       "  </thead>\n",
       "  <tbody>\n",
       "    <tr>\n",
       "      <th>2021-01-01</th>\n",
       "      <td>11300.0</td>\n",
       "    </tr>\n",
       "    <tr>\n",
       "      <th>2021-01-02</th>\n",
       "      <td>2181430.0</td>\n",
       "    </tr>\n",
       "    <tr>\n",
       "      <th>2021-01-04</th>\n",
       "      <td>2920260.0</td>\n",
       "    </tr>\n",
       "    <tr>\n",
       "      <th>2021-01-05</th>\n",
       "      <td>2399840.0</td>\n",
       "    </tr>\n",
       "    <tr>\n",
       "      <th>2021-01-06</th>\n",
       "      <td>2419150.0</td>\n",
       "    </tr>\n",
       "    <tr>\n",
       "      <th>...</th>\n",
       "      <td>...</td>\n",
       "    </tr>\n",
       "    <tr>\n",
       "      <th>2021-07-05</th>\n",
       "      <td>1897290.0</td>\n",
       "    </tr>\n",
       "    <tr>\n",
       "      <th>2021-07-06</th>\n",
       "      <td>1978140.0</td>\n",
       "    </tr>\n",
       "    <tr>\n",
       "      <th>2021-07-07</th>\n",
       "      <td>1620880.0</td>\n",
       "    </tr>\n",
       "    <tr>\n",
       "      <th>2021-07-08</th>\n",
       "      <td>1508050.0</td>\n",
       "    </tr>\n",
       "    <tr>\n",
       "      <th>2021-07-09</th>\n",
       "      <td>126140.0</td>\n",
       "    </tr>\n",
       "  </tbody>\n",
       "</table>\n",
       "<p>166 rows × 1 columns</p>\n",
       "</div>"
      ],
      "text/plain": [
       "             load_weight\n",
       "report_date             \n",
       "2021-01-01       11300.0\n",
       "2021-01-02     2181430.0\n",
       "2021-01-04     2920260.0\n",
       "2021-01-05     2399840.0\n",
       "2021-01-06     2419150.0\n",
       "...                  ...\n",
       "2021-07-05     1897290.0\n",
       "2021-07-06     1978140.0\n",
       "2021-07-07     1620880.0\n",
       "2021-07-08     1508050.0\n",
       "2021-07-09      126140.0\n",
       "\n",
       "[166 rows x 1 columns]"
      ]
     },
     "execution_count": 53,
     "metadata": {},
     "output_type": "execute_result"
    }
   ],
   "source": [
    "# Prepare data to be used\n",
    "daily_austinLW = austin_waste[['report_date','load_weight']].groupby('report_date').sum()\n",
    "daily_austinLW"
   ]
  },
  {
   "attachments": {},
   "cell_type": "markdown",
   "metadata": {},
   "source": [
    "Use derivatives to find waste predictions"
   ]
  },
  {
   "cell_type": "code",
   "execution_count": 54,
   "metadata": {},
   "outputs": [],
   "source": [
    "# Derivative of the V value tomorrow's waste prediction\n",
    "v = np.diff(daily_austinLW['load_weight']/np.diff(range(167)))"
   ]
  },
  {
   "cell_type": "code",
   "execution_count": 55,
   "metadata": {},
   "outputs": [
    {
     "data": {
      "text/plain": [
       "1255770.0"
      ]
     },
     "execution_count": 55,
     "metadata": {},
     "output_type": "execute_result"
    }
   ],
   "source": [
    "# The acceleration formula to determine the rate of additional waste every day\n",
    "Weight_Tomorrow = daily_austinLW[\"load_weight\"][-1] + v[-1] * 1\n",
    "abs(Weight_Tomorrow)"
   ]
  },
  {
   "attachments": {},
   "cell_type": "markdown",
   "metadata": {},
   "source": [
    "1. To calculate the first derivative, symbolic and numeric methods can be used, for this case, what techniques do you use?\n",
    "\n",
    "        Calculate the derivative using the numerical method.\n",
    "\n",
    "2. Do you need a mathematical function to calculate its derivatives?\n",
    "\n",
    "        No, because there is a condition of the equation to the formula v and get the value of the derivative results.\n",
    "\n",
    "\n",
    "3. How many load weight do you estimate on tomorrow?\n",
    "\n",
    "        1255770.0 kg"
   ]
  },
  {
   "attachments": {},
   "cell_type": "markdown",
   "metadata": {},
   "source": [
    "## Conclusion, Assumptions, Overall Analysis\n",
    "\n",
    "Based on the analysis that has been carried out, the need for new waste treatment and processing facilities due to waste disposal continues to increase. Based on the analysis of the average ratio of disposed and processed waste, there is no significant ratio of waste to disposed waste, in the sense that the waste disposal site can still accommodate the disposed waste.\n",
    "\n",
    "The government is required to open a new site so that it can reveal a lot of processed waste in one place. The processing of waste delivery must also be evenly distributed in every place so that waste disposal can be processed properly. The capacity of the new site also needs to be considered so that it fits the needs and is in accordance with the analysis that has been carried out.\n",
    "\n",
    "For the purposes of waste disposal analysis, calculation techniques are carried out using numerical methods. By using the v equation, obtained for the Derivative of the V value tomorrow's waste prediction.\n",
    "Obtained predictions of waste that will be disposed of the next day in the city of Austin as much as 1255770.0 kg."
   ]
  }
 ],
 "metadata": {
  "kernelspec": {
   "display_name": "Python 3",
   "language": "python",
   "name": "python3"
  },
  "language_info": {
   "codemirror_mode": {
    "name": "ipython",
    "version": 3
   },
   "file_extension": ".py",
   "mimetype": "text/x-python",
   "name": "python",
   "nbconvert_exporter": "python",
   "pygments_lexer": "ipython3",
   "version": "3.10.9"
  },
  "orig_nbformat": 4
 },
 "nbformat": 4,
 "nbformat_minor": 2
}
